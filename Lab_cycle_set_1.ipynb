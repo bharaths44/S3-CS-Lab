{
  "nbformat": 4,
  "nbformat_minor": 0,
  "metadata": {
    "colab": {
      "provenance": [],
      "authorship_tag": "ABX9TyP2YrKs7dsUE0Y6GdsMI0uQ"
    },
    "kernelspec": {
      "name": "python3",
      "display_name": "Python 3"
    },
    "language_info": {
      "name": "python"
    }
  },
  "cells": [
    {
      "cell_type": "markdown",
      "source": [
        "***1. Write a program to accept two numbers from the user and calculate multiplication.***"
      ],
      "metadata": {
        "id": "yu3OslEfqsrh"
      }
    },
    {
      "cell_type": "code",
      "execution_count": null,
      "metadata": {
        "colab": {
          "base_uri": "https://localhost:8080/"
        },
        "id": "-jh3TkaAqCsu",
        "outputId": "0e687426-e6fe-40bb-ac07-e2673ed3f53c"
      },
      "outputs": [
        {
          "output_type": "stream",
          "name": "stdout",
          "text": [
            "Enter the first  number :5\n",
            "Enter the second number :6\n",
            "The product is : 30\n"
          ]
        }
      ],
      "source": [
        "a=int(input(\"Enter the first  number :\"))\n",
        "b=int(input(\"Enter the second number :\"))\n",
        "print(\"The product is :\",a*b)"
      ]
    },
    {
      "cell_type": "markdown",
      "source": [
        "***2. Print all prime numbers with in an interval***"
      ],
      "metadata": {
        "id": "-W8ps-C3rA9X"
      }
    },
    {
      "cell_type": "code",
      "source": [
        "a=int(input(\"Enter the lower limit :\"))\n",
        "b=int(input(\"Enter the upper limit :\"))\n",
        "for i in range(a,b+1) :\n",
        "  for j in range(2,i):\n",
        "    if (i%j==0) :\n",
        "      break\n",
        "  else :\n",
        "    print(i)"
      ],
      "metadata": {
        "id": "al6GLBnTrFlw",
        "colab": {
          "base_uri": "https://localhost:8080/"
        },
        "outputId": "5a3fae1b-edab-44ef-b42a-852071971187"
      },
      "execution_count": null,
      "outputs": [
        {
          "output_type": "stream",
          "name": "stdout",
          "text": [
            "Enter the lower limit :6\n",
            "Enter the upper limit :50\n",
            "7\n",
            "11\n",
            "13\n",
            "17\n",
            "19\n",
            "23\n",
            "29\n",
            "31\n",
            "37\n",
            "41\n",
            "43\n",
            "47\n"
          ]
        }
      ]
    },
    {
      "cell_type": "markdown",
      "source": [
        "***3. Search an element in a list***"
      ],
      "metadata": {
        "id": "T5qjsglwrd5P"
      }
    },
    {
      "cell_type": "code",
      "source": [
        "n=int(input(\"Enter size of the list :\"))\n",
        "list=[]\n",
        "flag=0\n",
        "print(\"Enter the elements :\")\n",
        "for i in range(n):\n",
        "    a=int(input())\n",
        "    list.append(a)\n",
        "key=int(input(\"Enter element to be searched :\"))\n",
        "for j in range(n):\n",
        "  if(list[j]==key) :\n",
        "    print(\"Element found at position\",i)\n",
        "    flag=1\n",
        "    break\n",
        "if(flag==0) :\n",
        "  print(\"The element is not found\")\n",
        "\n"
      ],
      "metadata": {
        "colab": {
          "base_uri": "https://localhost:8080/"
        },
        "id": "jUnDmIOyrq7X",
        "outputId": "dc1d7896-3d6e-4ceb-8220-8f0278546081"
      },
      "execution_count": null,
      "outputs": [
        {
          "output_type": "stream",
          "name": "stdout",
          "text": [
            "Enter size of the list :6\n",
            "Enter the elements :\n",
            "1\n",
            "3\n",
            "4\n",
            "5\n",
            "6\n",
            "7\n",
            "Enter element to be searched :6\n",
            "Element found at position 5\n"
          ]
        }
      ]
    },
    {
      "cell_type": "markdown",
      "source": [
        "***4. Find the number of occurrences of a given substring in a string.***"
      ],
      "metadata": {
        "id": "9MU-kcsSsMA5"
      }
    },
    {
      "cell_type": "code",
      "source": [
        "str = (input('Enter the string: '))\n",
        "f = input('Enter the substring: ')\n",
        "print('The number of occurences: ',str.count(f))"
      ],
      "metadata": {
        "colab": {
          "base_uri": "https://localhost:8080/"
        },
        "id": "n8ZFaCeSsQpQ",
        "outputId": "4fc8f55f-0eeb-4165-ba22-20cfea9b2991"
      },
      "execution_count": null,
      "outputs": [
        {
          "output_type": "stream",
          "name": "stdout",
          "text": [
            "Enter the string: india is my country india is beautiful\n",
            "Enter the substring: india\n",
            "The number of occurences:  2\n"
          ]
        }
      ]
    },
    {
      "cell_type": "markdown",
      "source": [
        "***5. Implements calculator with functions like add, subtract, multiply, divide, exponent etc.***"
      ],
      "metadata": {
        "id": "OR90vZ_PsdoH"
      }
    },
    {
      "cell_type": "code",
      "source": [
        "def add(a,b) :\n",
        "  print(\"The sum is :\",a+b)\n",
        "\n",
        "def subtract(a,b) :\n",
        "  print(\"The difference is :\",a-b)\n",
        "\n",
        "def multiply(a,b) :\n",
        "  print(\"The product is :\",a*b)\n",
        "\n",
        "def exponent(a,b) :\n",
        "  print(\"The result is :\",a**b)\n",
        "\n",
        "def divide(a,b) :\n",
        "  print(\"The quiotent is :\",a/b)\n",
        "\n",
        "\n",
        "while True :\n",
        "  print(\"**************************\")\n",
        "  print(\"******* Calculator *******\")\n",
        "  print(\"**************************\")\n",
        "  print(\"\\t1.Addition\\n\\t2.Subtraction\\n\\t3.Multiply\\n\\t4.Exponent\\n\\t5.Divide\\n\\t6.Exit\")\n",
        "  print(\"**************************\\n\")\n",
        "  ch=int(input(\"Enter your choice :\"))\n",
        "  if(ch==6) :\n",
        "    print(\"Thank you !!!!!\")\n",
        "    break\n",
        "  a=float(input(\"Enter the first number :\"))\n",
        "  b=float(input(\"Enter the second number :\"))\n",
        "  if(ch==1) :\n",
        "    add(a,b)\n",
        "  elif(ch==2) :\n",
        "    subtract(a,b)\n",
        "  elif(ch==3):\n",
        "    multiply(a,b)\n",
        "  elif(ch==4) :\n",
        "    exponent(a,b)\n",
        "  elif(ch==5) :\n",
        "    divide(a,b)\n",
        "  else :\n",
        "    print(\"Wrong input\")"
      ],
      "metadata": {
        "colab": {
          "base_uri": "https://localhost:8080/"
        },
        "id": "4TmT7cOZsiQv",
        "outputId": "160e6bdd-d456-4156-f3f5-99fa766d05d8"
      },
      "execution_count": null,
      "outputs": [
        {
          "output_type": "stream",
          "name": "stdout",
          "text": [
            "**************************\n",
            "******* Calculator *******\n",
            "**************************\n",
            "\t1.Addition\n",
            "\t2.Subtraction\n",
            "\t3.Multiply\n",
            "\t4.Exponent\n",
            "\t5.Divide\n",
            "\t6.Exit\n",
            "**************************\n",
            "\n",
            "Enter your choice :2\n",
            "Enter the first number :5\n",
            "Enter the second number :4\n",
            "The difference is : 1.0\n",
            "**************************\n",
            "******* Calculator *******\n",
            "**************************\n",
            "\t1.Addition\n",
            "\t2.Subtraction\n",
            "\t3.Multiply\n",
            "\t4.Exponent\n",
            "\t5.Divide\n",
            "\t6.Exit\n",
            "**************************\n",
            "\n",
            "Enter your choice :3\n",
            "Enter the first number :4\n",
            "Enter the second number :4\n",
            "The product is : 16.0\n",
            "**************************\n",
            "******* Calculator *******\n",
            "**************************\n",
            "\t1.Addition\n",
            "\t2.Subtraction\n",
            "\t3.Multiply\n",
            "\t4.Exponent\n",
            "\t5.Divide\n",
            "\t6.Exit\n",
            "**************************\n",
            "\n",
            "Enter your choice :4\n",
            "Enter the first number :2\n",
            "Enter the second number :2\n",
            "The result is : 4.0\n",
            "**************************\n",
            "******* Calculator *******\n",
            "**************************\n",
            "\t1.Addition\n",
            "\t2.Subtraction\n",
            "\t3.Multiply\n",
            "\t4.Exponent\n",
            "\t5.Divide\n",
            "\t6.Exit\n",
            "**************************\n",
            "\n",
            "Enter your choice :5\n",
            "Enter the first number :8\n",
            "Enter the second number :2\n",
            "The quiotent is : 4.0\n",
            "**************************\n",
            "******* Calculator *******\n",
            "**************************\n",
            "\t1.Addition\n",
            "\t2.Subtraction\n",
            "\t3.Multiply\n",
            "\t4.Exponent\n",
            "\t5.Divide\n",
            "\t6.Exit\n",
            "**************************\n",
            "\n",
            "Enter your choice :6\n",
            "Thank you !!!!!\n"
          ]
        }
      ]
    },
    {
      "cell_type": "markdown",
      "source": [
        "***6. Find factorial of a given number using recursion.***"
      ],
      "metadata": {
        "id": "tYkjI6vkzi3p"
      }
    },
    {
      "cell_type": "code",
      "source": [
        "a=int(input(\"Enter the number to find factorial :\"))\n",
        "fact=1\n",
        "while(a>0) :\n",
        "  fact=fact*a\n",
        "  a-=1\n",
        "print(\"The facorial is :\",fact)"
      ],
      "metadata": {
        "colab": {
          "base_uri": "https://localhost:8080/"
        },
        "id": "3IakF3O7zmTA",
        "outputId": "66465b47-a3c1-4985-a064-658abff33921"
      },
      "execution_count": null,
      "outputs": [
        {
          "output_type": "stream",
          "name": "stdout",
          "text": [
            "Enter the number to find factorial :9\n",
            "The facorial is : 362880\n"
          ]
        }
      ]
    },
    {
      "cell_type": "markdown",
      "source": [
        "***7. Return multiple values from a function***"
      ],
      "metadata": {
        "id": "bgZW8mRh6-c_"
      }
    },
    {
      "cell_type": "code",
      "source": [
        "def func() :\n",
        "  a=\"Computaional\"\n",
        "  b=\"Statistics\"\n",
        "  return a,b\n",
        "list=func()\n",
        "print(list)"
      ],
      "metadata": {
        "colab": {
          "base_uri": "https://localhost:8080/"
        },
        "id": "YOsQt3Vp7Eq2",
        "outputId": "c40e0860-42ae-4b7c-e0c6-e733a440ef52"
      },
      "execution_count": null,
      "outputs": [
        {
          "output_type": "stream",
          "name": "stdout",
          "text": [
            "('Computaional', 'Statistics')\n"
          ]
        }
      ]
    },
    {
      "cell_type": "markdown",
      "source": [
        "***9. Develop a python code to read a text file, copy the contents to another file after removing the blank lines.***"
      ],
      "metadata": {
        "id": "y4QHCWgJQkV2"
      }
    },
    {
      "cell_type": "code",
      "source": [
        "with open('file.txt','w') as f:\n",
        "    str=input(\"Enter data :\")\n",
        "    f.write(str)\n",
        "f1=open('file.txt','r')\n",
        "f2=open('file2.txt','w')\n",
        "str=\"\"\n",
        "contents=f1.read()\n",
        "data=contents.split()\n",
        "for i in range(0,len(data)):\n",
        "  print(data[i],end=\"\")\n",
        "a=str.join(data)\n",
        "f2.write(a)\n",
        "f1.close()\n",
        "f2.close()"
      ],
      "metadata": {
        "colab": {
          "base_uri": "https://localhost:8080/"
        },
        "id": "ex3kg0FYQoFN",
        "outputId": "37a58691-7b41-44e5-ba90-39ea0e16cd21"
      },
      "execution_count": null,
      "outputs": [
        {
          "output_type": "stream",
          "name": "stdout",
          "text": [
            "Enter data :rajagiri engineering college\n",
            "rajagiriengineeringcollege"
          ]
        }
      ]
    },
    {
      "cell_type": "markdown",
      "source": [
        "***10. Find the most frequent words in a text read from a file.***"
      ],
      "metadata": {
        "id": "Z5qYg7ZD1eVB"
      }
    },
    {
      "cell_type": "code",
      "source": [
        "with open('file.txt', 'w') as f:\n",
        "    str1=input(\"Enter data to be written into file: \")\n",
        "    f.write(str1)\n",
        "f=open('file.txt','r')\n",
        "contents= f.read()\n",
        "data=contents.split()\n",
        "print(data)\n",
        "countmax=0\n",
        "word='null'\n",
        "for i in range(0,len(data)):\n",
        "    cnew=0\n",
        "    for j in range(0,len(data)):\n",
        "        if (data[i]==data[j]):\n",
        "            cnew+=1\n",
        "        if (cnew>countmax):\n",
        "            countmax=cnew\n",
        "            word=data[i]\n",
        "f.close()\n",
        "print(\"The most common word is :\",word,\" It appears \",countmax,\"times\")"
      ],
      "metadata": {
        "colab": {
          "base_uri": "https://localhost:8080/"
        },
        "id": "BAALdiok1p96",
        "outputId": "5e4c6932-a476-4ad9-a52d-7eabf41507e4"
      },
      "execution_count": null,
      "outputs": [
        {
          "output_type": "stream",
          "name": "stdout",
          "text": [
            "Enter data to be written into file: is is then is is no is\n",
            "['is', 'is', 'then', 'is', 'is', 'no', 'is']\n",
            "The most common word is : is .It appears  5 times\n"
          ]
        }
      ]
    },
    {
      "cell_type": "markdown",
      "source": [
        "***8. A book shop maintains the inventory of books that are being sold at the shop. The list\n",
        "includes details such as author, title, price, publisher and stock position. Whenever a customer\n",
        "wants a book, the sales person inputs the title and author and the system searches the list and\n",
        "displays whether it is available or not. If it is not, an appropriate message is displayed. If it is, then\n",
        "the system displays the book details and requests for the number of copies required. If the\n",
        "requested copies are available, the total cost of the requested copies is displayed; otherwise\n",
        "“Required copies not in stock” is displayed.***"
      ],
      "metadata": {
        "id": "-MxdsnVN3ldM"
      }
    },
    {
      "cell_type": "code",
      "source": [
        "class book:\n",
        "    def __init__(self,title,author,price,publisher,stock):\n",
        "        self.title=title\n",
        "        self.author=author\n",
        "        self.price=price\n",
        "        self.publisher=publisher\n",
        "        self.stock=stock\n",
        "list1=[]\n",
        "while True:\n",
        "  print(\"\\n******* BOOK SHOP *******\")\n",
        "  print(\"\\n\\t1. Input book\\n\\t2. Rent book\\n\\t3. Display books\\n\\t4. Exit\")\n",
        "  print(\"*************************\\n\")\n",
        "  flag=0\n",
        "  ch=int(input(\"Enter your choice :\"))\n",
        "  if(ch==1):\n",
        "        title=input(\"Enter book title :\")\n",
        "        author=input(\"Enter author name:\")\n",
        "        price=float(input(\"Enter price:\"))\n",
        "        publisher=input(\"Enter publisher:\")\n",
        "        stock=int(input(\"Enter stock :\"))\n",
        "        obj = book(title,author,price,publisher,stock)\n",
        "        newl=[author,title,price,publisher,stock]\n",
        "        list1.append(newl)\n",
        "  elif (ch==2):\n",
        "        stitle=input(\"Enter book title: \")\n",
        "        for i in range (0,len(list1)):\n",
        "            if (list1[i][1]==stitle):\n",
        "                flag=1\n",
        "                print(stitle,\" is available\")\n",
        "                print(\"The available stock is :\",list1[i][4])\n",
        "                n=int(input(\"Enter the number of books required :\"))\n",
        "                if (n<=list1[i][4]):\n",
        "                    print('Books(s) have been dispatched')\n",
        "                    print('Total price =',(n*list1[i][2]))\n",
        "                    list1[i][4]=list1[i][4]-n\n",
        "                else:\n",
        "                    print(\"Required amount exceeds in stock\")\n",
        "        if(flag==0):\n",
        "            print(\"Book unavailable\")\n",
        "  elif(ch==3) :\n",
        "      print(list1)\n",
        "  elif(ch==4) :\n",
        "    print(\"Thank you !!!\")\n",
        "    break\n",
        "  else:\n",
        "        print(\"Invalid option\")\n",
        ""
      ],
      "metadata": {
        "colab": {
          "base_uri": "https://localhost:8080/"
        },
        "id": "j5G-TiDV3owj",
        "outputId": "ead7c1b6-2fe6-4996-ffd9-20a25c11b010"
      },
      "execution_count": null,
      "outputs": [
        {
          "output_type": "stream",
          "name": "stdout",
          "text": [
            "\n",
            "******* BOOK SHOP *******\n",
            "\n",
            "\t1. Input book\n",
            "\t2. Rent book\n",
            "\t3. Display books\n",
            "\t4. Exit\n",
            "*************************\n",
            "\n",
            "Enter your choice :1\n",
            "Enter book title :Diary of a wimpy kid\n",
            "Enter author name:Jeff Kenny\n",
            "Enter price:500\n",
            "Enter publisher:Penguin\n",
            "Enter stock :20\n",
            "\n",
            "******* BOOK SHOP *******\n",
            "\n",
            "\t1. Input book\n",
            "\t2. Rent book\n",
            "\t3. Display books\n",
            "\t4. Exit\n",
            "*************************\n",
            "\n",
            "Enter your choice :1\n",
            "Enter book title :Magnus Chase\n",
            "Enter author name:Rick Riordan\n",
            "Enter price:500\n",
            "Enter publisher:Penguin\n",
            "Enter stock :25\n",
            "\n",
            "******* BOOK SHOP *******\n",
            "\n",
            "\t1. Input book\n",
            "\t2. Rent book\n",
            "\t3. Display books\n",
            "\t4. Exit\n",
            "*************************\n",
            "\n",
            "Enter your choice :2\n",
            "Enter book title: Magnus Chase\n",
            "Magnus Chase  is available\n",
            "The available stock is : 25\n",
            "Enter the number of books required :5\n",
            "Books(s) have been dispatched\n",
            "Total price = 2500.0\n",
            "\n",
            "******* BOOK SHOP *******\n",
            "\n",
            "\t1. Input book\n",
            "\t2. Rent book\n",
            "\t3. Display books\n",
            "\t4. Exit\n",
            "*************************\n",
            "\n",
            "Enter your choice :3\n",
            "[['Jeff Kenny', 'Diary of a wimpy kid', 500.0, 'Penguin', 20], ['Rick Riordan', 'Magnus Chase', 500.0, 'Penguin', 20]]\n",
            "\n",
            "******* BOOK SHOP *******\n",
            "\n",
            "\t1. Input book\n",
            "\t2. Rent book\n",
            "\t3. Display books\n",
            "\t4. Exit\n",
            "*************************\n",
            "\n",
            "Enter your choice :4\n",
            "Thank you !!!\n"
          ]
        }
      ]
    }
  ]
}